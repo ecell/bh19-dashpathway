{
 "cells": [
  {
   "cell_type": "code",
   "execution_count": 2,
   "metadata": {},
   "outputs": [
    {
     "data": {
      "text/html": [
       "<div>\n",
       "  <iframe src=\"/app/endpoints/2ab946cb78794efb987f9bdd09800834/\" width=800 height=600 frameborder=\"0\"></iframe>\n",
       "  <hr/><a href=\"/app/endpoints/2ab946cb78794efb987f9bdd09800834/\" target=\"_new\">Open in new window</a> for /app/endpoints/2ab946cb78794efb987f9bdd09800834/\n",
       "</div>"
      ],
      "text/plain": [
       "<jupyter_plotly_dash.dash_wrapper.JupyterDash at 0x11ce6fa90>"
      ]
     },
     "execution_count": 2,
     "metadata": {},
     "output_type": "execute_result"
    }
   ],
   "source": [
    "from jupyter_plotly_dash import JupyterDash\n",
    "\n",
    "import dash\n",
    "import dash_core_components as dcc\n",
    "import dash_html_components as html\n",
    "from dash.dependencies import Input, Output\n",
    "import dash_cytoscape as cyto\n",
    "\n",
    "app = JupyterDash('SimpleExample')\n",
    "\n",
    "#import wp2cyjs\n",
    "import json\n",
    "\n",
    "# This sends 500 times of requests to convert HMDB ID to KEGG ID.\n",
    "# So I saved the results as WP3604.cyjs before.\n",
    "#wp3604=wp2cyjs.wp2cyjs(\"WP3604\")\n",
    "\n",
    "with open('WP3604.cyjs') as json_file:\n",
    "    wp3604 = json.load(json_file)['elements']\n",
    "\n",
    "app.layout = html.Div([\n",
    "    cyto.Cytoscape(\n",
    "        id='cytoscape-two-nodes',\n",
    "        layout={'name': 'preset'},\n",
    "        style={'width': '100%', 'height': '800px'},\n",
    "        elements=wp3604['nodes'] + wp3604['edges']\n",
    "    )\n",
    "])\n",
    "\n",
    "app"
   ]
  },
  {
   "cell_type": "code",
   "execution_count": null,
   "metadata": {},
   "outputs": [],
   "source": []
  }
 ],
 "metadata": {
  "kernelspec": {
   "display_name": "Python 3",
   "language": "python",
   "name": "python3"
  },
  "language_info": {
   "codemirror_mode": {
    "name": "ipython",
    "version": 3
   },
   "file_extension": ".py",
   "mimetype": "text/x-python",
   "name": "python",
   "nbconvert_exporter": "python",
   "pygments_lexer": "ipython3",
   "version": "3.7.3"
  }
 },
 "nbformat": 4,
 "nbformat_minor": 2
}
